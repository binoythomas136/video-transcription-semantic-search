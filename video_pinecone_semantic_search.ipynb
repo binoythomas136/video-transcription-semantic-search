{
 "cells": [
  {
   "cell_type": "code",
   "execution_count": null,
   "metadata": {},
   "outputs": [],
   "source": [
    "#!pip install youtube-transcript-api\n",
    "#!pip install google-api-python-client\n",
    "#!pip install pinecone-client\n",
    "#!pip install sentence-transformers\n",
    "!pip install numpy\n",
    "#!pip install transformers -U"
   ]
  },
  {
   "cell_type": "code",
   "execution_count": 42,
   "metadata": {},
   "outputs": [],
   "source": [
    "from googleapiclient.discovery import build\n",
    "from datetime import timedelta\n",
    "from datasets import load_dataset\n",
    "from youtube_transcript_api import YouTubeTranscriptApi\n",
    "\n",
    "import pandas as pd\n",
    "import time\n",
    "import pinecone\n",
    "import numpy as np\n",
    "from sentence_transformers import SentenceTransformer\n",
    "import torch\n",
    "from pinecone import Pinecone, ServerlessSpec\n"
   ]
  },
  {
   "cell_type": "code",
   "execution_count": null,
   "metadata": {},
   "outputs": [],
   "source": [
    "#Google youtube video id downloading API\n",
    "# Replace with your API key\n",
    "#Go to the Google Cloud Console.\n",
    "#Create a new project.\n",
    "#Enable the YouTube Data API v3 for your project.\n",
    "#Create API credentials (API key) under APIs & Services > Credentials.\n",
    "api_key = {'your api key'}\n",
    "\n",
    "# Initialize the YouTube Data API v3\n",
    "youtube = build('youtube', 'v3', developerKey=api_key)\n",
    "\n",
    "def search_videos():\n",
    "    videos = []\n",
    "    next_page_token = None\n",
    "    total_videos = 0\n",
    "    \n",
    "    while total_videos < 5000:\n",
    "        search_response = youtube.search().list(\n",
    "            q='tech',\n",
    "            part='snippet',\n",
    "            type='video',\n",
    "            maxResults=min(50, 5000 - total_videos),  # Ensure we don't exceed 5000 videos\n",
    "            videoDuration='short',  # Filter for short videos (< 4 minutes)\n",
    "            relevanceLanguage='en',  # Videos in English\n",
    "            videoEmbeddable='true',  # Filter for embeddable videos\n",
    "            videoCategoryId='28',  # Category ID for Science & Technology\n",
    "            pageToken=next_page_token\n",
    "        ).execute()\n",
    "\n",
    "        for search_result in search_response.get('items', []):\n",
    "            video_id = search_result['id']['videoId']\n",
    "            title = search_result['snippet']['title']\n",
    "            description = search_result['snippet']['description']\n",
    "            published_at = search_result['snippet']['publishedAt']\n",
    "            \n",
    "            video_info = {\n",
    "                'video_id': video_id,\n",
    "                'title': title,\n",
    "                'description': description,\n",
    "                'published_at': published_at\n",
    "            }\n",
    "            \n",
    "            videos.append(video_info)\n",
    "            total_videos += 1\n",
    "\n",
    "            if total_videos >= 5000:\n",
    "                break\n",
    "\n",
    "        next_page_token = search_response.get('nextPageToken')\n",
    "\n",
    "        if not next_page_token:\n",
    "            break\n",
    "\n",
    "        # YouTube Data API has a rate limit of 10,000 units per day per project\n",
    "        # We need to handle rate limiting by waiting before making the next request\n",
    "        time.sleep(1)  # Wait for 1 second to avoid hitting rate limits\n",
    "\n",
    "    return videos[:5000]  # Return up to 5000 videos\n",
    "\n",
    "video_data = search_videos()\n",
    "video_ids=[]\n",
    "for i in video_data:\n",
    "    video_ids.append(i['video_id'])"
   ]
  },
  {
   "cell_type": "code",
   "execution_count": 167,
   "metadata": {},
   "outputs": [],
   "source": [
    "\n",
    "# retrieve the available transcripts\n",
    "df = pd.DataFrame(columns=['id','text','duration'])\n",
    "transcripts = {}\n",
    "for i in range(0,len(video_ids)):\n",
    "    try:\n",
    "        df.loc[i,'id'] = video_ids[i]\n",
    "        transcript_list = YouTubeTranscriptApi.list_transcripts(video_ids[i])\n",
    "        text_field = ''\n",
    "        for transcript in transcript_list:\n",
    "            list_trans = transcript.translate('en').fetch()\n",
    "            for k in range(0,len(list_trans)):\n",
    "                text_field = text_field +' '+ list_trans[k]['text']\n",
    "                duration = list_trans[k]['start'] +list_trans[k]['duration']\n",
    "        df.loc[i,'text'] = text_field\n",
    "        df.loc[i,'duration'] = duration\n",
    "    except:\n",
    "        pass\n",
    "\n"
   ]
  },
  {
   "cell_type": "code",
   "execution_count": 168,
   "metadata": {},
   "outputs": [
    {
     "data": {
      "text/plain": [
       "(522, 3)"
      ]
     },
     "execution_count": 168,
     "metadata": {},
     "output_type": "execute_result"
    }
   ],
   "source": [
    "df = df.dropna()\n",
    "df.shape"
   ]
  },
  {
   "cell_type": "code",
   "execution_count": 169,
   "metadata": {},
   "outputs": [
    {
     "data": {
      "text/html": [
       "<div>\n",
       "<style scoped>\n",
       "    .dataframe tbody tr th:only-of-type {\n",
       "        vertical-align: middle;\n",
       "    }\n",
       "\n",
       "    .dataframe tbody tr th {\n",
       "        vertical-align: top;\n",
       "    }\n",
       "\n",
       "    .dataframe thead th {\n",
       "        text-align: right;\n",
       "    }\n",
       "</style>\n",
       "<table border=\"1\" class=\"dataframe\">\n",
       "  <thead>\n",
       "    <tr style=\"text-align: right;\">\n",
       "      <th></th>\n",
       "      <th>id</th>\n",
       "      <th>text</th>\n",
       "      <th>duration</th>\n",
       "    </tr>\n",
       "  </thead>\n",
       "  <tbody>\n",
       "    <tr>\n",
       "      <th>0</th>\n",
       "      <td>EL5GxUuvFak</td>\n",
       "      <td>This is the world's smallest cyber truck, thi...</td>\n",
       "      <td>52.429</td>\n",
       "    </tr>\n",
       "    <tr>\n",
       "      <th>1</th>\n",
       "      <td>11OQcqP4JDc</td>\n",
       "      <td>this is what happens when I turn on  notifica...</td>\n",
       "      <td>3.32</td>\n",
       "    </tr>\n",
       "    <tr>\n",
       "      <th>2</th>\n",
       "      <td>hGYS-NCNon0</td>\n",
       "      <td>$50 fake iPhone $400 fake iPhone how  close c...</td>\n",
       "      <td>4.319</td>\n",
       "    </tr>\n",
       "    <tr>\n",
       "      <th>3</th>\n",
       "      <td>wGQHHpemIjk</td>\n",
       "      <td>the redmi note 12 Discovery is one of  the fa...</td>\n",
       "      <td>3.51</td>\n",
       "    </tr>\n",
       "    <tr>\n",
       "      <th>5</th>\n",
       "      <td>jbe6yA0xipU</td>\n",
       "      <td>All three of us bought the most expensive sma...</td>\n",
       "      <td>61.16</td>\n",
       "    </tr>\n",
       "  </tbody>\n",
       "</table>\n",
       "</div>"
      ],
      "text/plain": [
       "            id                                               text duration\n",
       "0  EL5GxUuvFak   This is the world's smallest cyber truck, thi...   52.429\n",
       "1  11OQcqP4JDc   this is what happens when I turn on  notifica...     3.32\n",
       "2  hGYS-NCNon0   $50 fake iPhone $400 fake iPhone how  close c...    4.319\n",
       "3  wGQHHpemIjk   the redmi note 12 Discovery is one of  the fa...     3.51\n",
       "5  jbe6yA0xipU   All three of us bought the most expensive sma...    61.16"
      ]
     },
     "execution_count": 169,
     "metadata": {},
     "output_type": "execute_result"
    }
   ],
   "source": [
    "df.head()"
   ]
  },
  {
   "cell_type": "code",
   "execution_count": 172,
   "metadata": {},
   "outputs": [
    {
     "data": {
      "text/plain": [
       "np.float64(26.055358237547917)"
      ]
     },
     "execution_count": 172,
     "metadata": {},
     "output_type": "execute_result"
    }
   ],
   "source": [
    "#Average duration of the video files\n",
    "df.duration.mean()"
   ]
  },
  {
   "cell_type": "code",
   "execution_count": 49,
   "metadata": {},
   "outputs": [],
   "source": [
    "#pinecone\n",
    "pc = Pinecone(api_key={'your api key'})"
   ]
  },
  {
   "cell_type": "code",
   "execution_count": null,
   "metadata": {},
   "outputs": [],
   "source": [
    "pc.create_index(\n",
    "    name=\"quickstart\",\n",
    "    dimension=384, # Replace with your model dimensions\n",
    "    metric=\"cosine\", # Replace with your model metric\n",
    "    spec=ServerlessSpec(\n",
    "        cloud=\"aws\",\n",
    "        region=\"us-east-1\"\n",
    "    ) \n",
    ")"
   ]
  },
  {
   "cell_type": "code",
   "execution_count": 50,
   "metadata": {},
   "outputs": [
    {
     "data": {
      "text/plain": [
       "{'indexes': [{'dimension': 384,\n",
       "              'host': 'quickstart-xfckm4t.svc.aped-4627-b74a.pinecone.io',\n",
       "              'metric': 'cosine',\n",
       "              'name': 'quickstart',\n",
       "              'spec': {'serverless': {'cloud': 'aws', 'region': 'us-east-1'}},\n",
       "              'status': {'ready': True, 'state': 'Ready'}}]}"
      ]
     },
     "execution_count": 50,
     "metadata": {},
     "output_type": "execute_result"
    }
   ],
   "source": [
    "pc.list_indexes()"
   ]
  },
  {
   "cell_type": "code",
   "execution_count": 51,
   "metadata": {},
   "outputs": [],
   "source": [
    "idx = pc.Index('quickstart')"
   ]
  },
  {
   "cell_type": "code",
   "execution_count": 52,
   "metadata": {},
   "outputs": [],
   "source": [
    "df = df.rename(columns = {'id':'video_id'})"
   ]
  },
  {
   "cell_type": "code",
   "execution_count": 53,
   "metadata": {},
   "outputs": [],
   "source": [
    "df = df.reset_index().drop('index',axis=1)"
   ]
  },
  {
   "cell_type": "code",
   "execution_count": 54,
   "metadata": {},
   "outputs": [],
   "source": [
    "#Sentence transformer model\n",
    "model = SentenceTransformer('all-MiniLM-L6-v2') # cuda or cpu"
   ]
  },
  {
   "cell_type": "code",
   "execution_count": 55,
   "metadata": {},
   "outputs": [],
   "source": [
    "df['values'] = df['text'].map(\n",
    "    lambda x: (model.encode(x)).tolist())\n",
    "df['id'] = df.reset_index(drop = 'index').index\n",
    "df['metadata'] = df.apply(lambda x: {\n",
    "    'text' : x['text'],\n",
    "    'duration': x['duration'],\n",
    "    'video_id': x['video_id']\n",
    "    \n",
    "}, axis=1)\n",
    "df_upsert = df[['id', 'values', 'metadata']]"
   ]
  },
  {
   "cell_type": "code",
   "execution_count": 187,
   "metadata": {},
   "outputs": [
    {
     "name": "stderr",
     "output_type": "stream",
     "text": [
      "/var/folders/zh/ytmrhwpx11z_65fnc1y4fs_1y3v_l2/T/ipykernel_323/3006284790.py:1: SettingWithCopyWarning: \n",
      "A value is trying to be set on a copy of a slice from a DataFrame.\n",
      "Try using .loc[row_indexer,col_indexer] = value instead\n",
      "\n",
      "See the caveats in the documentation: https://pandas.pydata.org/pandas-docs/stable/user_guide/indexing.html#returning-a-view-versus-a-copy\n",
      "  df_upsert['id'] = df_upsert['id'].map(lambda x: str(x))\n"
     ]
    }
   ],
   "source": [
    "df_upsert['id'] = df_upsert['id'].map(lambda x: str(x))"
   ]
  },
  {
   "cell_type": "code",
   "execution_count": 192,
   "metadata": {},
   "outputs": [
    {
     "name": "stderr",
     "output_type": "stream",
     "text": [
      "sending upsert requests: 100%|██████████| 522/522 [00:03<00:00, 154.97it/s]\n"
     ]
    },
    {
     "data": {
      "text/plain": [
       "{'upserted_count': 522}"
      ]
     },
     "execution_count": 192,
     "metadata": {},
     "output_type": "execute_result"
    }
   ],
   "source": [
    "idx.upsert_from_dataframe(df_upsert) "
   ]
  },
  {
   "cell_type": "code",
   "execution_count": 56,
   "metadata": {},
   "outputs": [],
   "source": [
    "xc = idx.query(vector=(model.encode(\"tell me about the iphone\")).tolist(), # python list\n",
    "           top_k=10,\n",
    "           include_metadata=True) "
   ]
  },
  {
   "cell_type": "code",
   "execution_count": 57,
   "metadata": {},
   "outputs": [
    {
     "name": "stdout",
     "output_type": "stream",
     "text": [
      "0.64:  This is a pretty big iPhone 14 plus.  But how big do you think the biggest iPhone in the world is?  So I wasn't expecting this, but YouTuber Matthew Beem told me he was building the world's largest iPhone a few days ago and then he showed up with it.  This thing is fully functional, stands 7 feet tall, and weighs almost 500 pounds. There's an on/off button here.  There are also volume buttons and a mute button.  It's so high that you have to climb a ladder to take a selfie with the camera because it's right up here.  But you know, I'm the tech YouTuber, so I had to do a little digging into how he did it.  And first of all, watch his video to see my full reaction to it.  But it turns out there's no iPhone here.  It's actually a Mac Mini here, which simulates running a virtual Android phone, and then that Android phone is running a launcher that makes it look like an iPhone, all with some improvised technology around the edges to make it see where your  finger is to make it work as a touch screen.  All this to say, it's not an iPhone, technically, but it's still pretty impressive. This is an iPhone 14 Plus and it's pretty big, but what size do you think is the largest iPhone in the world? YouTuber Matthew Beam told me he was building the world's largest iPhone a few days ago and then showed up with it.  It is 2 meters high, weighs 255 kilos and can be used.  It has power and volume buttons and a mute switch. Because it's so tall, you have to climb a ladder to take a selfie. But since I have a tech channel, I had to do a little research on how he did it. Don't forget to watch his video to see my full reaction. It turns out that Matthew's giant creation doesn't have an iPhone. In reality, it's a Mac mini that simulates running a virtual Android phone, and that virtual Android phone runs a launcher that mimics the appearance of an iPhone. Plus, there's plenty of technology around the edges to detect where your finger is and simulate a touch screen. While it's not technically an iPhone, it's pretty impressive. all right so this is an iPhone 14 plus  pretty big phone but how big do you  think the biggest iPhone in the world is  so I wasn't expecting this but YouTuber  Matthew beam told me he was building the  world's biggest iPhone a few days ago  and then he showed up with it this thing  is fully functional seven feet tall and  weighs close to 500 pounds it has a  power button here there's also volume  buttons and a mute switch it's so tall  you have to get up on a ladder to take a  selfie with the camera because it's all  the way up here but you know I am the  tech YouTuber so I kind of had to  investigate a little bit into how he  made this and first of all watch his  video for my full reaction on the thing  but turns out there is no iPhone  actually in here at all it's actually a  Mac Mini in here which simulates running  a virtual Android phone and then that  Android phone is running a launcher that  makes it look like an iPhone all with  some jail rig Tech on the edges to make  it see where your finger is to make it  act like a touch screen all that to say  it's not an iPhone technically but it is  still pretty impressive: FNnK1J-BdiM \n",
      "0.62:  You can see it has a stand like iPhone's and which model is it?: AscyyLuqJBo \n",
      "0.58:  I wanted a phone that looked exactly like an iPhone. Now brother, who came with a ₹ 2 lakh DK phone, he liked it. Should I get a phone that looks like an iPhone? So here I searched on Google, brother, two-three phones came in front of me.  But brother, it was going more buttery, it has three cameras each, like iPhone 14, its price was also ₹ 899, so this is also a real winner at ₹ 1503 because it looks exactly like the iPhone and the build quality etc. is exactly like this phone. It has three big eyes along with the updated fingerprint on the side, but you know that this phone is one thing, the head is visible from the primary camera of 50 megapixels due to which the photos are absolutely amazing and in it you get an HD+ 90Hz display.  Due to the color of the display, it looks like a one-piece phone, I am using it with both, its battery backup is very strong and in one hour and 30 minutes this phone gets charged for 02 hours and it is blessed with power from UNICEF.  d6 tu hai agar me aapko mil jati jati hai absolutely butter performance so just be afraid of what I have taken a cheap iPhone you also go and get the rest like subscribe follow: Bhv1LQOwsk4 \n",
      "0.56:  what comes after the smartphone and will  it look like this the first iPhone  helped launch the era of the modern  smartphone as we know it and it's now  estimated that there are over 6.8  billion smartphone users globally which  is just crazy to think about despite  this staggering number there are several  companies that seem to be investing in a  post smartphone future and I'm talking  more than just foldable phones the  obvious and relevant one to bring up  right now is Apple themselves now that  they've shown the world their next huge  product the Apple Vision Pro another  interesting approach to solving a world  where we don't have to be as dependent  on our phones comes from a company  called Humane they're creating a device  that can be described as a small  wearable AI assistant that can project  information into the palm of your hand I  mean just look at this invisible devices  should feel so natural to use that you  almost forget about their existence  whether or not these idea come the  future of technology I for one can't  wait to see what comes next: ZYIi81NCeU4 \n",
      "0.56:  Friends, if you have iPhone 7 but you will be surprised to know that apple365.bet: BwGiC6H4J0U \n",
      "0.54:  this unique phone can do three things  better than your smartphone one the  display it's an e in display just like a  Kindle and runs on Android as well you  can text on this listen to music on this  but watching videos on YouTube or  Instagram it's not very pretty but  that's good if you're trying to cut down  on your smartphone usage to the battery  this phone can easily get up to 7 Days  of battery with a single charge thanks  to the e in display that means you can  worry less about the battery and more  about your life three The Design This is  basically an e-reader but with Android  normally Kindles are big and does not  fit in your pocket but this one can plus  you get more reading apps from the Play  Store as well this books Palma phone can  fix your 6 hours of daily smartphone  music: Z_KL0PjSmiI \n",
      "0.52:  Apple has heavily promoted their trade-in program in recent years, encouraging users to give up their old iPhone in exchange for a discount on a new model. Over a third of Apple Store customers now utilize this program, but its left many people wondering why Apple even wants our old iPhones. Which is what I’ll explain right now. It’s no coincidence that Apple began offering discounts with trade-ins in 2013, when they experienced their first quarterly profit decline in a decade. And started aggressively promoting the trade-in program in 2017, when they released the $1,000 iPhone X. It solved two problems the company faced: Slowing iPhone sales due to market saturation, and users waiting longer to upgrade due to the iPhone’s price rising year after year. Trade-ins bring down the device’s price and allow more users to upgrade sooner. But what does Apple do with all those old iPhones? Well, if it’s in good working condition, they refurbish the device and resell it in emerging markets like India, Latin America and Africa. That way, Apple can directly compete in the used smartphone market while also selling a device twice that only had to be manufactured once. But if the phone is in too poor a condition to sell, Apple recycles it. They actually created a robot called Daisy specifically for this purpose. It’s able to dissemble 200 iPhones an hour while recovering recyclable materials that would otherwise be left in landfills. This approach was required in order to achieve Apple’s goal of a closed-loop supply chain. Where all new products would be manufactured without “pulling new materials from the Earth.” Apple has yet to achieve the goal, but they are taking steps like using 100% recycled rare earth materials in the iPhone 12. So the iPhone trade-in program benefits the customer by making their new device more affordable, benefits Apple by boosting sales of new iPhones plus sales of older refurbished models, and benefits the environment. By allowing devices to be used up to their full potential before being recycled. This is Greg with Apple Explained, thanks for watching till the end, and I’ll see you in the next video.\n",
      " \n",
      " \n",
      " \n",
      " \n",
      " \n",
      " \n",
      " \n",
      " \n",
      " \n",
      " \n",
      " \n",
      " \n",
      " \n",
      " \n",
      " \n",
      " \n",
      " \n",
      " \n",
      " \n",
      " \n",
      " \n",
      " \n",
      " \n",
      " I have some roads and informal English in Use In foods You Think Of Life and leave for discount on any more Over the purple cast emotional utilized for our Perfect Mickey wondered Why are even Ball Valve with parents were away now It's not withstand the apple banana fringe  gulbis fade into Town Center the money printer paper stunning particles and asking and suggested we fall in the green Pearl in two thousand Seventeen One lives the one thousand more efficient and Exo from the Company phase Pro Lite for sure to the market installation and use the waiting  for love rain today for sharing your deck to your friends in depth of the face plates and will use of Racing quads Apple wars.com weltreisen good working content the first the voice and resort in emerging markets work in Europe and America and Africa the way people  in the practical and use smart phone market for its own And The Voice with State 42 termina passthrough watch funny jump and conditions the sound Apple felt tasklist for sharing this paper is put the humble bundle iPhone turn out of it Comes recycle me to you the best  of what you Optimum Gold pizza quite expensive of all to you Summer Rain on your parade automatically due to open image file formats are pleased to meet you wood instead Where You're comin Hearts and decide when you're ready for our secure print print and  sister tomorrow Banking Dare You The Way smartphone Apple Battery Apple bagel shares the new Eye contour at school or referred to in the way to use their potential for business cycle distributor of which went and supporting to Heaven and Earth euns video à: HmQuT0unrk0 \n",
      "0.52:  four of the rarest phones ever first up  is the Coca-Cola phone it has a special  finish designed to match the sheen of a  real coke can every time you take a  photo you can hear the coke being opened  and when you plug it into charge the  drink actually comes together the Harry  Potter phone though is magical every  single part of this unboxing experience  is filled with references to the movies  like The Marauders map which is actually  your manuals the phone itself has an  embossed Harry Potter logo it has a  glossy Crest it's even got Harry's  glasses around the two camera lenses and  the wallpaper that's the golden snitch  next up is the BMW film yes the comes in  a car Bonnet that just keeps on giving  with posters special coins of the BMW  logo through the years and an air  compressor and then the phone itself has  a custom boot screen a unique icon pack  and the BMW logo instead of the home  button this one though is on a whole  other level this it's the $10,000 gun  phone it's made of Aerospace grade  titanium the handle of the gun is real  wood and the gun itself electroplated  gold imagine taking this through airport  security: Vdll3kjkAJQ \n",
      "0.49:  we asked our CEO to review our  competitors products and he got pretty  honest do we pay for this first we asked  him about the dynamic Island really  smart design it might have been a bit  overhyped because after using it for  some time it's cool but it's it's not  changing the way you interact with the  phone then we asked him how much it  actually cost to build an iPhone and we  were shocked I'm guessing this one cost  about 465 to build it retails at  starting 999 so their margin is over 50  so the iPhone's margin was 50 how did  that compare to the phone one the phone  one costs about 360 to build our margin  is uh zero AKA we are broke but yeah why  would we do something like this we're a  startup company it's kind of our entry  into the market we see this more like uh  we bought a ticket to this industry so  50 margin zero percent margin so in the  end what do you actually really think of  the iPhone 14 pro  I'm a fan great cameras great  performance you might want to wait for  iPhone 15 because there's not a ton of  changes in 14 pro: jyEVp9CUGcw \n",
      "0.49:  we asked our CEO to review our  competitors products and he got pretty  honest do we pay for this first we asked  him about the dynamic Island really  smart design it might have been a bit  overhyped because after using it for  some time it's cool but it's it's not  changing the way you interact with the  phone then we asked him how much it  actually cost to build an iPhone and we  were shocked I'm guessing this one cost  about 465 to build it retails at  starting 999 so their margin is over 50  so the iPhone's margin was 50 how did  that compare to the phone one the phone  one costs about 360 to build our margin  is uh zero AKA we are broke but yeah why  would we do something like this we're a  startup company it's kind of our entry  into the market we see this more like uh  we bought a ticket to this industry so  50 margin zero percent margin so in the  end what do you actually really think of  the iPhone 14 pro  I'm a fan great cameras great  performance you might want to wait for  iPhone 15 because there's not a ton of  changes in 14 pro: jyEVp9CUGcw \n"
     ]
    }
   ],
   "source": [
    "for result in xc['matches']:\n",
    "    print(f\"{round(result['score'], 2)}: {result['metadata']['text']}: {result['metadata']['video_id']} \")"
   ]
  },
  {
   "cell_type": "code",
   "execution_count": null,
   "metadata": {},
   "outputs": [],
   "source": []
  }
 ],
 "metadata": {
  "kernelspec": {
   "display_name": "myproject_kernel",
   "language": "python",
   "name": "myproject_kernel"
  },
  "language_info": {
   "codemirror_mode": {
    "name": "ipython",
    "version": 3
   },
   "file_extension": ".py",
   "mimetype": "text/x-python",
   "name": "python",
   "nbconvert_exporter": "python",
   "pygments_lexer": "ipython3",
   "version": "3.11.0"
  },
  "orig_nbformat": 4,
  "vscode": {
   "interpreter": {
    "hash": "0a7035b965f91c8759d746e13385872f4990efed42fb3fc80e9479cd21181123"
   }
  }
 },
 "nbformat": 4,
 "nbformat_minor": 2
}
