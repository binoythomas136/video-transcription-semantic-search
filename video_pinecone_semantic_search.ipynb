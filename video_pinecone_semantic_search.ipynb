{
 "cells": [
  {
   "cell_type": "code",
   "execution_count": 17,
   "metadata": {},
   "outputs": [
    {
     "name": "stdout",
     "output_type": "stream",
     "text": [
      "Requirement already satisfied: numpy in /Users/thomasb10/Desktop/vectordB_course/my_virtual_env/lib/python3.11/site-packages (1.26.4)\n",
      "\n",
      "\u001b[1m[\u001b[0m\u001b[34;49mnotice\u001b[0m\u001b[1;39;49m]\u001b[0m\u001b[39;49m A new release of pip available: \u001b[0m\u001b[31;49m22.3\u001b[0m\u001b[39;49m -> \u001b[0m\u001b[32;49m24.1.2\u001b[0m\n",
      "\u001b[1m[\u001b[0m\u001b[34;49mnotice\u001b[0m\u001b[1;39;49m]\u001b[0m\u001b[39;49m To update, run: \u001b[0m\u001b[32;49mpip install --upgrade pip\u001b[0m\n"
     ]
    }
   ],
   "source": [
    "#!pip install youtube-transcript-api\n",
    "#!pip install google-api-python-client\n",
    "#!pip install pinecone-client\n",
    "#!pip install sentence-transformers\n",
    "#!pip install numpy \n",
    "#!pip install transformers -U"
   ]
  },
  {
   "cell_type": "code",
   "execution_count": 14,
   "metadata": {},
   "outputs": [],
   "source": [
    "from googleapiclient.discovery import build\n",
    "from datetime import timedelta\n",
    "from datasets import load_dataset\n",
    "from youtube_transcript_api import YouTubeTranscriptApi\n",
    "\n",
    "import pandas as pd\n",
    "import time\n",
    "import pinecone\n",
    "import numpy as np\n",
    "from sentence_transformers import SentenceTransformer\n",
    "import torch\n",
    "from pinecone import Pinecone, ServerlessSpec\n"
   ]
  },
  {
   "cell_type": "code",
   "execution_count": null,
   "metadata": {},
   "outputs": [],
   "source": [
    "#Google youtube video id downloading API\n",
    "# Replace with your API key\n",
    "#Go to the Google Cloud Console.\n",
    "#Create a new project.\n",
    "#Enable the YouTube Data API v3 for your project.\n",
    "#Create API credentials (API key) under APIs & Services > Credentials.\n",
    "api_key = {add your credentials}\n",
    "\n",
    "# Initialize the YouTube Data API v3\n",
    "youtube = build('youtube', 'v3', developerKey=api_key)\n",
    "\n",
    "def search_videos():\n",
    "    videos = []\n",
    "    next_page_token = None\n",
    "    total_videos = 0\n",
    "    \n",
    "    while total_videos < 5000:\n",
    "        search_response = youtube.search().list(\n",
    "            q='tech',\n",
    "            part='snippet',\n",
    "            type='video',\n",
    "            maxResults=min(50, 5000 - total_videos),  # Ensure we don't exceed 5000 videos\n",
    "            videoDuration='short',  # Filter for short videos (< 4 minutes)\n",
    "            relevanceLanguage='en',  # Videos in English\n",
    "            videoEmbeddable='true',  # Filter for embeddable videos\n",
    "            videoCategoryId='28',  # Category ID for Science & Technology\n",
    "            pageToken=next_page_token\n",
    "        ).execute()\n",
    "\n",
    "        for search_result in search_response.get('items', []):\n",
    "            video_id = search_result['id']['videoId']\n",
    "            title = search_result['snippet']['title']\n",
    "            description = search_result['snippet']['description']\n",
    "            published_at = search_result['snippet']['publishedAt']\n",
    "            \n",
    "            video_info = {\n",
    "                'video_id': video_id,\n",
    "                'title': title,\n",
    "                'description': description,\n",
    "                'published_at': published_at\n",
    "            }\n",
    "            \n",
    "            videos.append(video_info)\n",
    "            total_videos += 1\n",
    "\n",
    "            if total_videos >= 5000:\n",
    "                break\n",
    "\n",
    "        next_page_token = search_response.get('nextPageToken')\n",
    "\n",
    "        if not next_page_token:\n",
    "            break\n",
    "\n",
    "        # YouTube Data API has a rate limit of 10,000 units per day per project\n",
    "        # We need to handle rate limiting by waiting before making the next request\n",
    "        time.sleep(1)  # Wait for 1 second to avoid hitting rate limits\n",
    "\n",
    "    return videos[:5000]  # Return up to 5000 videos\n",
    "\n",
    "video_data = search_videos()\n",
    "video_ids=[]\n",
    "for i in video_data:\n",
    "    video_ids.append(i['video_id'])"
   ]
  },
  {
   "cell_type": "code",
   "execution_count": 167,
   "metadata": {},
   "outputs": [],
   "source": [
    "\n",
    "# retrieve the available transcripts\n",
    "df = pd.DataFrame(columns=['id','text','duration'])\n",
    "transcripts = {}\n",
    "for i in range(0,len(video_ids)):\n",
    "    try:\n",
    "        df.loc[i,'id'] = video_ids[i]\n",
    "        transcript_list = YouTubeTranscriptApi.list_transcripts(video_ids[i])\n",
    "        text_field = ''\n",
    "        for transcript in transcript_list:\n",
    "            list_trans = transcript.translate('en').fetch()\n",
    "            for k in range(0,len(list_trans)):\n",
    "                text_field = text_field +' '+ list_trans[k]['text']\n",
    "                duration = list_trans[k]['start'] +list_trans[k]['duration']\n",
    "        df.loc[i,'text'] = text_field\n",
    "        df.loc[i,'duration'] = duration\n",
    "    except:\n",
    "        pass\n",
    "\n"
   ]
  },
  {
   "cell_type": "code",
   "execution_count": 168,
   "metadata": {},
   "outputs": [
    {
     "data": {
      "text/plain": [
       "(522, 3)"
      ]
     },
     "execution_count": 168,
     "metadata": {},
     "output_type": "execute_result"
    }
   ],
   "source": [
    "df = df.dropna()\n",
    "df.shape"
   ]
  },
  {
   "cell_type": "code",
   "execution_count": 169,
   "metadata": {},
   "outputs": [
    {
     "data": {
      "text/html": [
       "<div>\n",
       "<style scoped>\n",
       "    .dataframe tbody tr th:only-of-type {\n",
       "        vertical-align: middle;\n",
       "    }\n",
       "\n",
       "    .dataframe tbody tr th {\n",
       "        vertical-align: top;\n",
       "    }\n",
       "\n",
       "    .dataframe thead th {\n",
       "        text-align: right;\n",
       "    }\n",
       "</style>\n",
       "<table border=\"1\" class=\"dataframe\">\n",
       "  <thead>\n",
       "    <tr style=\"text-align: right;\">\n",
       "      <th></th>\n",
       "      <th>id</th>\n",
       "      <th>text</th>\n",
       "      <th>duration</th>\n",
       "    </tr>\n",
       "  </thead>\n",
       "  <tbody>\n",
       "    <tr>\n",
       "      <th>0</th>\n",
       "      <td>EL5GxUuvFak</td>\n",
       "      <td>This is the world's smallest cyber truck, thi...</td>\n",
       "      <td>52.429</td>\n",
       "    </tr>\n",
       "    <tr>\n",
       "      <th>1</th>\n",
       "      <td>11OQcqP4JDc</td>\n",
       "      <td>this is what happens when I turn on  notifica...</td>\n",
       "      <td>3.32</td>\n",
       "    </tr>\n",
       "    <tr>\n",
       "      <th>2</th>\n",
       "      <td>hGYS-NCNon0</td>\n",
       "      <td>$50 fake iPhone $400 fake iPhone how  close c...</td>\n",
       "      <td>4.319</td>\n",
       "    </tr>\n",
       "    <tr>\n",
       "      <th>3</th>\n",
       "      <td>wGQHHpemIjk</td>\n",
       "      <td>the redmi note 12 Discovery is one of  the fa...</td>\n",
       "      <td>3.51</td>\n",
       "    </tr>\n",
       "    <tr>\n",
       "      <th>5</th>\n",
       "      <td>jbe6yA0xipU</td>\n",
       "      <td>All three of us bought the most expensive sma...</td>\n",
       "      <td>61.16</td>\n",
       "    </tr>\n",
       "  </tbody>\n",
       "</table>\n",
       "</div>"
      ],
      "text/plain": [
       "            id                                               text duration\n",
       "0  EL5GxUuvFak   This is the world's smallest cyber truck, thi...   52.429\n",
       "1  11OQcqP4JDc   this is what happens when I turn on  notifica...     3.32\n",
       "2  hGYS-NCNon0   $50 fake iPhone $400 fake iPhone how  close c...    4.319\n",
       "3  wGQHHpemIjk   the redmi note 12 Discovery is one of  the fa...     3.51\n",
       "5  jbe6yA0xipU   All three of us bought the most expensive sma...    61.16"
      ]
     },
     "execution_count": 169,
     "metadata": {},
     "output_type": "execute_result"
    }
   ],
   "source": [
    "df.head()"
   ]
  },
  {
   "cell_type": "code",
   "execution_count": 170,
   "metadata": {},
   "outputs": [],
   "source": [
    "df.to_csv('video_data.csv')"
   ]
  },
  {
   "cell_type": "code",
   "execution_count": 172,
   "metadata": {},
   "outputs": [
    {
     "data": {
      "text/plain": [
       "np.float64(26.055358237547917)"
      ]
     },
     "execution_count": 172,
     "metadata": {},
     "output_type": "execute_result"
    }
   ],
   "source": [
    "#Average duration of the video files\n",
    "df.duration.mean()"
   ]
  },
  {
   "cell_type": "code",
   "execution_count": 173,
   "metadata": {},
   "outputs": [],
   "source": [
    "#pinecone\n",
    "pc = Pinecone(api_key={add your credentials})"
   ]
  },
  {
   "cell_type": "code",
   "execution_count": 189,
   "metadata": {},
   "outputs": [],
   "source": [
    "pc.create_index(\n",
    "    name=\"quickstart\",\n",
    "    dimension=384, # Replace with your model dimensions\n",
    "    metric=\"cosine\", # Replace with your model metric\n",
    "    spec=ServerlessSpec(\n",
    "        cloud=\"aws\",\n",
    "        region=\"us-east-1\"\n",
    "    ) \n",
    ")"
   ]
  },
  {
   "cell_type": "code",
   "execution_count": 190,
   "metadata": {},
   "outputs": [
    {
     "data": {
      "text/plain": [
       "{'indexes': [{'dimension': 384,\n",
       "              'host': 'quickstart-xfckm4t.svc.aped-4627-b74a.pinecone.io',\n",
       "              'metric': 'cosine',\n",
       "              'name': 'quickstart',\n",
       "              'spec': {'serverless': {'cloud': 'aws', 'region': 'us-east-1'}},\n",
       "              'status': {'ready': True, 'state': 'Ready'}}]}"
      ]
     },
     "execution_count": 190,
     "metadata": {},
     "output_type": "execute_result"
    }
   ],
   "source": [
    "pc.list_indexes()"
   ]
  },
  {
   "cell_type": "code",
   "execution_count": 191,
   "metadata": {},
   "outputs": [],
   "source": [
    "idx = pc.Index('quickstart')"
   ]
  },
  {
   "cell_type": "code",
   "execution_count": 178,
   "metadata": {},
   "outputs": [],
   "source": [
    "df = df.rename(columns = {'id':'video_id'})"
   ]
  },
  {
   "cell_type": "code",
   "execution_count": 180,
   "metadata": {},
   "outputs": [],
   "source": [
    "df = df.reset_index().drop('index',axis=1)"
   ]
  },
  {
   "cell_type": "code",
   "execution_count": 184,
   "metadata": {},
   "outputs": [],
   "source": [
    "#Sentence transformer model\n",
    "model = SentenceTransformer('all-MiniLM-L6-v2') # cuda or cpu"
   ]
  },
  {
   "cell_type": "code",
   "execution_count": 185,
   "metadata": {},
   "outputs": [],
   "source": [
    "df['values'] = df['text'].map(\n",
    "    lambda x: (model.encode(x)).tolist())\n",
    "df['id'] = df.reset_index(drop = 'index').index\n",
    "df['metadata'] = df.apply(lambda x: {\n",
    "    'text' : x['text'],\n",
    "    'duration': x['duration'],\n",
    "    'video_id': x['video_id']\n",
    "    \n",
    "}, axis=1)\n",
    "df_upsert = df[['id', 'values', 'metadata']]"
   ]
  },
  {
   "cell_type": "code",
   "execution_count": 187,
   "metadata": {},
   "outputs": [
    {
     "name": "stderr",
     "output_type": "stream",
     "text": [
      "/var/folders/zh/ytmrhwpx11z_65fnc1y4fs_1y3v_l2/T/ipykernel_323/3006284790.py:1: SettingWithCopyWarning: \n",
      "A value is trying to be set on a copy of a slice from a DataFrame.\n",
      "Try using .loc[row_indexer,col_indexer] = value instead\n",
      "\n",
      "See the caveats in the documentation: https://pandas.pydata.org/pandas-docs/stable/user_guide/indexing.html#returning-a-view-versus-a-copy\n",
      "  df_upsert['id'] = df_upsert['id'].map(lambda x: str(x))\n"
     ]
    }
   ],
   "source": [
    "df_upsert['id'] = df_upsert['id'].map(lambda x: str(x))"
   ]
  },
  {
   "cell_type": "code",
   "execution_count": 192,
   "metadata": {},
   "outputs": [
    {
     "name": "stderr",
     "output_type": "stream",
     "text": [
      "sending upsert requests: 100%|██████████| 522/522 [00:03<00:00, 154.97it/s]\n"
     ]
    },
    {
     "data": {
      "text/plain": [
       "{'upserted_count': 522}"
      ]
     },
     "execution_count": 192,
     "metadata": {},
     "output_type": "execute_result"
    }
   ],
   "source": [
    "idx.upsert_from_dataframe(df_upsert) "
   ]
  },
  {
   "cell_type": "code",
   "execution_count": 200,
   "metadata": {},
   "outputs": [],
   "source": [
    "xc = idx.query(vector=(model.encode(\"why is my husband stupid?\")).tolist(), # python list\n",
    "           top_k=10,\n",
    "           include_metadata=True) "
   ]
  },
  {
   "cell_type": "code",
   "execution_count": 201,
   "metadata": {},
   "outputs": [
    {
     "name": "stdout",
     "output_type": "stream",
     "text": [
      "0.18:  And just in the morning an accident came to us, he had come from an institute, I will not take his name, he seemed very worried and has taken the demo and also said that in the institute they told that they have not even given a microscope there yet and  He said that he doesn't even know how to wear a jumper, he has completed two months of classes, he is right now, it was just 1/2 hour ago, he has done everything from here, Sir has given him a demo.  So he came and told that my class is also over, although he who is a jumper is taught in our school only, in Rajkumar Sir's class, even before the agent, he was assigned to Janmpuran, which since his class is also over, he is asked to do so.  It has also boosted my morale a lot that even though I have done a good institute, whether it is Android or iPhone, repairing has become very difficult and the previous technicians are not able to do it, whether it is Face ID or many other things.  Whatever new thing is being developed in it, you read very good topics from Saifi sir, second thing is that you read very openly selfishly.: 0oA5uiTH7rA \n",
      "0.15:  There is a member in our team who has been rubbing his phone for years. Today we will surprise him by giving him a new phone. All of you tell me what is he doing on his phone right now? He wo n't keep looking at his face all day long otherwise it will just keep ringing.  He keeps rubbing the same phone for five years. Oh my god, he keeps entering the bathroom with the phone and its charger. To surprise my friend, I ordered it from samsungmobile.com. Plus, its snap7 z1 adds real life to the performance. Let's surprise him now.  Let's say this is your phone, isn't it? Yes, why is it gone now, brother, do you know how many years are five years, don't joke, you will fall down, I will keep you immersed, brother, I don't have money to buy another one, take it, don't cry, it's a gift for you.  It's really for you brother, the tears have come, enough tears have flowed now, man, this has become too emotional.: KsolfWR5m5c \n",
      "0.13:  I don't know why this phone keeps agitating, this is the strongest phone in the world, brother, it can't even be called a phone, it is a weapon, this is my iPhone 7, it is a mAh battery, this is not a phone, it is a grenade and the weight of this phone is literally more than half a kilo.  Meaning, you can turn this donkey into Bheem's donkey and break someone's head and you cannot even take this phone outside, it will seem as if you are going to fulfill your purpose by carrying a bomb. The name of this phone is Dodge v Me.  And this 35000: v-6QQudNFkw \n",
      "0.11:  JavaScript is really weird if I have a  string 11 and then add 1 we get 111 okay  kind of makes sense I guess but if you  do string 11 minus 1 it somehow goes to  10.  okay then even the error handling is a  bit weird if you had a function that  accepts two parameters adding one will  throw an error but adding another one  will just ignore the extra okay then  quick question is an array equal to a  not array  well according to JavaScript it is okay  well how about adding two floats 0.1  plus 0.2 is equal to 0.3 right well  actually it's  0.3000 yeah you get the point okay  that's not just JavaScript that runs  into that issue in fact almost all  programming language has this issue as  well the lesson learned is that every  single programming language has its  weird quirks you just gotta kind of work  with it: 4t_ukSUQdwo \n",
      "0.11:  My condo is pretty simple. I think I’d describe my style as minimal and functional, but I do enjoy my tech here and there. A day in my condo is me waking up in my bed, cooking in the kitchen, relaxing to some shows on the TV and working on my computer in the office. I have a lot of items that are from IKEA, one too many computer desks, and a bunch of little gadgets and technology here and there that make up the rest of my space. Hi I’m David and this is a tech tour of my condo. Stepping in my place you’ll see a little bit of everything from the start. The kitchen to my left, the living room, the office in the back, and bedroom to the right. But let’s start with the main living space. I spend a lot of time here playing video games, watching videos or just relaxing on the sofa. My TV console contains the bulk of my electronics at home. Everything from my modem, router, gaming consoles all tucked away in these drawers. The TV and Speakers are old but the connected Chromecast and Home Theatre PC makes it as powerful as any modern smart system. I also added basic smart lights that change the mood from daylight, to warm night lights, to a dim mode for movie watching. I have complete control for my home theatre with a single Harmony remote and the Harmony hub means I can also control it remotely from my tablet or phone, or I can even use voice control with the nearby Google Home Mini. This Google Home Mini in my kitchen, is perfect to have while cooking, I like to ask it thing like, setting a 15 minute timer, converting 8oz to grams, or even to listen to music. Multi-room playback is my favorite feature with these Google Home Minis, I have another in my office and in the bedroom, combined with a Chromecast Audio on my home theatre speakers means I can keep listening to my tunes no matter which room I’m in. I’m definitely lacking some art pieces and plants around my place, so for now I’ve just hung some of my commonly used backpacks up on the wall making them really accessible to grab each day. And finishing off the living space is my nook for all my chargers and cables. Not the pretty space but I try to hide most of my extra chargers in the ottomans or the extra cables in a box, to keep the space a little more tidy. Next up is my office. Most of my videos are shot in here so things should be pretty familiar. It’s a pretty tight space but I manage to fit two desks in here. One desk for docking my laptop with a couple different mechanical keyboards, and the other for my main rig with the standing desk. A couple other IKEA tabletops tucked in the corner just because. And for the rest of my gear and gadgets I tend to just try to fit them in my closet. Out of sight out of mind. On the other side of my place is my bedroom. I try to avoid putting too much tech in here, since I’m mainly just in here to sleep. But waking up in the mornings can be tough so I have a couple more smart lights to that automatically brighten up the room in the mornings, or I can also use my sunrise alarm clock to do the same. To add to my wake up routine my TV is programmed to automatically turn on and play the local news channel. And I can even ask my other google home mini while half asleep what the weather is today or to play some other music to ease me into my day. So that’s a quick look at my condo currently and some of the tech I use around my place. Sure it lacks some artwork and some plants but it is functional enough for me to get me through my typical day. But hope you guys enjoyed this one. You know what to do. And I’ll see you in the next video. \n",
      " \n",
      " \n",
      " \n",
      " \n",
      " \n",
      " \n",
      " \n",
      " \n",
      " \n",
      " \n",
      " \n",
      " \n",
      " \n",
      " \n",
      " \n",
      " \n",
      " \n",
      " \n",
      " \n",
      " \n",
      " \n",
      " \n",
      " \n",
      " \n",
      " \n",
      " \n",
      " \n",
      " \n",
      " \n",
      " \n",
      " \n",
      " \n",
      " \n",
      " \n",
      " \n",
      " \n",
      " \n",
      " my condo is pretty simple I think I  describe my style as minimal and  functional but I do enjoy my tech here  and there a day in my condo is me waking  up in my bed cooking in the kitchen  relaxing to some shows on TV and working  on my computer in the office I have a  lot of items that are from Ikea one too  many computer desks and a bunch of  little gadgets and technology here and  there that make up the rest of my space  hi I'm David and this is a tech tour of  my condo stepping into my place you'll  see a little bit of everything from the  start the kitchen to my left the living  room the office in the back and the  bedroom to the right but let's start  with the main living space I spend a lot  of time here playing video games  watching videos or just relaxing on the  sofa my TV console contains the bulk of  my electronics at home everything from  my modem router gaming consoles all  tucked away in these drawers the TV and  speakers are old but the connected  chromecast and home theater PC makes it  as powerful as any modern smart system I  also added basic smart lights that  change the mood from daylight to warm  night lights to dim mode for movie  watching I also have complete control  from my home theater with a single  harmony remote and the harmony hub means  I can control it remotely from my tablet  or phone or I can even use voice control  with the nearby Google home Mini this  Google home mini in my kitchen is  perfect to have while cooking I like to  ask it things like setting a 50 minute  timer converting 8 ounces to grams or  even listening to music multi-room  playback is my favorite feature with  these Google home minis I have another  in my office and in the bedroom combined  with a chromecast Audio on my home  theater speakers means I can keep  listening to my tunes no matter which  room I'm in I'm definitely lacking some  art pieces and plants around my place so  for now I just hung some of them I  commonly use backpacks up on the wall  making it really accessible to grab each  day and finishing off the living space  is my nook for all my chargers and  cables not a pretty space but I tried to  hide most of my extra Chargers in the  Ottoman or the extra cables in a box to  keep the space a little more tidy  next up is my office most of my videos  are shot in here so things should be  pretty familiar it's a pretty tight  space but I managed to fit two desks in  here one for docking my laptop with a  couple different mechanical keyboards  and the other for my main rig with the  standing desk a couple other IKEA  tabletops tucked in the corner just  because and for the rest of my gear and  gadgets I tend to just try to fit them  in my closet out of sight out of mind on  the other side of my place is my bedroom  I try to avoid putting too much second  here since I'm mainly just in here to  sleep but waking up in the mornings can  be tough so I have a couple more smart  lights so automatically brighten up the  room in the mornings or I can also use  my sunrise alarm cloth to do the same to  add to my wake up routine my TV is  programmed to automatically turn on and  play the local news channel and I can  even ask my other Google home mini while  I'm half asleep what the weather is  today or to play some other music to  ease me into the day so that's a quick  look at my condo currently and some of  the tech I use around my place sure it  lacks some artwork in some plants but  it's functional enough for me to get me  through my typical day but hope you guys  enjoyed this one you know what to do and  I'll see you in the next video  [Music]: mB5jDX77Vzo \n",
      "0.1:  five sneaky tech pranks to ruin your  relationships five borrow your friend's  phone and then ask their voice assistant  to change what it calls them hey siri  call me idiot from now on okay you'd  like me to call you idiot yes please  four while you have the phone head into  accessibility settings then display and  text and then set their font to the  maximum possible size next time your  friend picks up their phone to see a  notification it's gonna take up  basically the entire screen they're  gonna have no idea why but you can  actually take this one step further in  the same menu by also supersizing their  whole screen your poor friends but if  you can also get onto their computer's  accessibility settings then you can take  the pranking to another level by adding  a display color filter you can make  their screen any color you want to and  they're just going to assume that  there's something wrong with their  monitor but the most brutal prank that  i've ever shown on this channel is to  set your friends devices to announce  notifications and watch them panic as  you send them embarrassing messages  for explosive diarrhea: mvvD21aUYeA \n",
      "0.1:  does Java suck when people hate on Java  they hate Java but why let's investigate  Java is verbose meaning there's lots of  typing now compared to other languages  Java isn't necessarily verbose but this  is a style that's really easy for a lot  of people to read Java code tends to be  messy but I mean like so does every  other language Java is very popular so a  lot of people are exposed to very bad  code in the form of java code and  therefore they think it's because of  java Java is boring now this comes from  the stigma of the kind of work you do  with Java Banks spreadsheets but in  reality you can do almost anything with  Java so does Java suck no maybe it's  just time to seek therapy for your past  traumas: HMMQkvKqqXQ \n",
      "0.1:  Let me tell you 5 things to save water on MP4. Even if you turn off Bluetooth, the same drop in active background is troubling you. There, in the settings, you can turn off the file scanning Bluetooth settings, this will improve the wife in the background. Whatever you need on this battery, we all have vibration notes in our phones. If you turn it off, pay attention to a lot of notifications, then all the vibrations, nor does it become too heavy for you, we all keep getting notifications from 34 accounts in our phones. One thing you will do is turn off their setting in the background and since it was only Flipkart and Amazon, you can recognize the new ones on your display, but if you put black wallpaper in it, then wherever there are likes, electricity is wasted and your battery.  6194 is required in very low cases, but if you cut the charges of voice vote, let's reduce the battery to half by hundred percent. If the charge of your 4868 Note is optimized here at night, you can use it in the middle of charging, when it reaches hundred percent.  Send it to your 2030 and battery and Vindhyachal if you follow the tech section below.: a-E7bBz6XNQ \n",
      "0.09:  this is not just laundry this is laundry  that's smarter than the dial with ge  profile smarter wash technology more  care for your cashmere more power for  your workout gear  this is smarter sensing and dispensing  fully optimized cleaning no more  guessing getting the best out of  everything that goes in  this is smarter cleaning this is ge  profile: vZ_cshJAIDU \n",
      "0.09:  four of the most devious tech pranks  i've ever shown number four take a photo  of your friend's car load it into the  app dude your car which lets you apply  any number of damages to it and then  just send them a friendly text just to  check that they are in fact aware of  what's happening with their vehicle  number three using the chrome extension  fart attack make your friend's computer  let out an explosive card every time  they click a link  number two if your friend has an android  phone go to settings build number and  tap it seven times to unlock developer  options and then from there enable a  setting called show surface updates it  will make their phone look like it's  having a seizure and they will have no  idea why and then number one which will  turn damage into chaos also select the  option force rtl layout it'll flip every  bit of text on their phone to align to  the right hand side of the screen  instead of the left they're gonna hate  it  and you: 0oQpnSlJJ64 \n"
     ]
    }
   ],
   "source": [
    "for result in xc['matches']:\n",
    "    print(f\"{round(result['score'], 2)}: {result['metadata']['text']}: {result['metadata']['video_id']} \")"
   ]
  }
 ],
 "metadata": {
  "kernelspec": {
   "display_name": "myproject_kernel",
   "language": "python",
   "name": "myproject_kernel"
  },
  "language_info": {
   "codemirror_mode": {
    "name": "ipython",
    "version": 3
   },
   "file_extension": ".py",
   "mimetype": "text/x-python",
   "name": "python",
   "nbconvert_exporter": "python",
   "pygments_lexer": "ipython3",
   "version": "3.11.0"
  },
  "orig_nbformat": 4,
  "vscode": {
   "interpreter": {
    "hash": "0a7035b965f91c8759d746e13385872f4990efed42fb3fc80e9479cd21181123"
   }
  }
 },
 "nbformat": 4,
 "nbformat_minor": 2
}
